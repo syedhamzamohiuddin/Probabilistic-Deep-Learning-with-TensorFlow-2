{
 "cells": [
  {
   "cell_type": "markdown",
   "id": "c8c3bdf8-da28-43ef-b66d-dd11683466dd",
   "metadata": {},
   "source": [
    "**Bijectors:** Tensorflow Objects that implements bijective or invertible transformations. These objects form the basis for the Normalising Flow model.\n",
    "\n",
    "- These objects have methods for forward and inverse transformations"
   ]
  },
  {
   "cell_type": "code",
   "execution_count": 1,
   "id": "0b2714a6-3fff-497d-8894-00700a9b06f8",
   "metadata": {},
   "outputs": [],
   "source": [
    "import tensorflow as tf\n",
    "import tensorflow_probability as tfp\n",
    "import matplotlib.pyplot as plt"
   ]
  },
  {
   "cell_type": "code",
   "execution_count": 2,
   "id": "305b36cf-857e-47a2-8f95-e1824b5a3736",
   "metadata": {},
   "outputs": [],
   "source": [
    "tfd = tfp.distributions\n",
    "tfb = tfp.bijectors\n",
    "tfpl = tfp.layers"
   ]
  },
  {
   "cell_type": "code",
   "execution_count": 3,
   "id": "19acaeba-6516-4e99-b524-05ecc739dfe8",
   "metadata": {},
   "outputs": [
    {
     "data": {
      "text/plain": [
       "<tf.Tensor: shape=(3,), dtype=float32, numpy=array([1., 2., 3.], dtype=float32)>"
      ]
     },
     "execution_count": 3,
     "metadata": {},
     "output_type": "execute_result"
    }
   ],
   "source": [
    "z = tf.constant([1.,2.,3.])\n",
    "z"
   ]
  },
  {
   "cell_type": "code",
   "execution_count": 5,
   "id": "3f4fbce6-9630-44e0-9960-50ef86a8aed1",
   "metadata": {},
   "outputs": [],
   "source": [
    "scale = tfb.Scale(2.) # Scaling bijector transformation with scaling factor 2"
   ]
  },
  {
   "cell_type": "code",
   "execution_count": 6,
   "id": "8b76dc4c-4a61-430b-81cf-3c0a2a4c625d",
   "metadata": {},
   "outputs": [
    {
     "data": {
      "text/plain": [
       "array([2., 4., 6.], dtype=float32)"
      ]
     },
     "execution_count": 6,
     "metadata": {},
     "output_type": "execute_result"
    }
   ],
   "source": [
    "x = scale.forward(z) # Forward transformation\n",
    "x.numpy()"
   ]
  },
  {
   "cell_type": "code",
   "execution_count": 7,
   "id": "250f6152-13af-408a-9f6c-4a6e2899e00e",
   "metadata": {},
   "outputs": [
    {
     "data": {
      "text/plain": [
       "<tf.Tensor: shape=(3,), dtype=float32, numpy=array([0.5, 1. , 1.5], dtype=float32)>"
      ]
     },
     "execution_count": 7,
     "metadata": {},
     "output_type": "execute_result"
    }
   ],
   "source": [
    "scale.inverse(z) # Inverse transformation"
   ]
  },
  {
   "cell_type": "markdown",
   "id": "b177bb28-fc03-4814-85a6-bfe664ad120a",
   "metadata": {},
   "source": [
    "__Now lets add/chain another bijective transformation__"
   ]
  },
  {
   "cell_type": "code",
   "execution_count": 8,
   "id": "8e79a1d3-2144-45eb-9485-ae5ccad16382",
   "metadata": {},
   "outputs": [],
   "source": [
    "shift = tfb.Shift(1)\n"
   ]
  },
  {
   "cell_type": "code",
   "execution_count": 9,
   "id": "9bc7230f-62cd-473e-ad2b-3c5bb9fdde45",
   "metadata": {},
   "outputs": [],
   "source": [
    "scale_and_shift = tfb.Chain([shift, scale]) # The operations are applied in the reverse order"
   ]
  },
  {
   "cell_type": "code",
   "execution_count": 10,
   "id": "1002f307-9bc6-44dd-b815-63ee6aee1273",
   "metadata": {},
   "outputs": [
    {
     "data": {
      "text/plain": [
       "<tf.Tensor: shape=(3,), dtype=float32, numpy=array([3., 5., 7.], dtype=float32)>"
      ]
     },
     "execution_count": 10,
     "metadata": {},
     "output_type": "execute_result"
    }
   ],
   "source": [
    "scale_and_shift.forward(z)"
   ]
  },
  {
   "cell_type": "code",
   "execution_count": 11,
   "id": "89994efc-da4a-4557-9380-eee3a053c55d",
   "metadata": {},
   "outputs": [
    {
     "data": {
      "text/plain": [
       "<tf.Tensor: shape=(3,), dtype=float32, numpy=array([0.5, 2. , 3.5], dtype=float32)>"
      ]
     },
     "execution_count": 11,
     "metadata": {},
     "output_type": "execute_result"
    }
   ],
   "source": [
    "scale_and_shift.inverse(tf.constant([2.,5.,8.]))"
   ]
  },
  {
   "cell_type": "markdown",
   "id": "ba821643-087e-4fe4-bc00-f56415015b38",
   "metadata": {},
   "source": [
    "__Another way of chaining__\n",
    "bijector called on a bijector"
   ]
  },
  {
   "cell_type": "code",
   "execution_count": 12,
   "id": "1eba4d11-2ad9-4341-88d6-1eb43664019c",
   "metadata": {},
   "outputs": [
    {
     "data": {
      "text/plain": [
       "<tf.Tensor: shape=(3,), dtype=float32, numpy=array([3., 5., 7.], dtype=float32)>"
      ]
     },
     "execution_count": 12,
     "metadata": {},
     "output_type": "execute_result"
    }
   ],
   "source": [
    "scale_and_shift = shift(scale)\n",
    "scale_and_shift.forward(z)"
   ]
  },
  {
   "cell_type": "markdown",
   "id": "cad6c695-c1c6-4d15-b05b-1d0398e5d6b4",
   "metadata": {},
   "source": [
    "__Another way of forward method__\n",
    "bijector called on vector"
   ]
  },
  {
   "cell_type": "code",
   "execution_count": 13,
   "id": "c5df0fda-a902-4220-af28-3a596383a0df",
   "metadata": {},
   "outputs": [
    {
     "data": {
      "text/plain": [
       "<tf.Tensor: shape=(3,), dtype=float32, numpy=array([3., 5., 7.], dtype=float32)>"
      ]
     },
     "execution_count": 13,
     "metadata": {},
     "output_type": "execute_result"
    }
   ],
   "source": [
    "scale_and_shift(z)"
   ]
  },
  {
   "cell_type": "markdown",
   "id": "55c98ea5-ca67-4a93-b3dc-a78b7c054664",
   "metadata": {},
   "source": [
    "Besides computing forward and inverse transformaions on an input vector, they can also transform random variables"
   ]
  },
  {
   "cell_type": "markdown",
   "id": "a61caba8-fced-43eb-a91a-f713f74b519e",
   "metadata": {},
   "source": [
    "## Tutorial"
   ]
  },
  {
   "cell_type": "code",
   "execution_count": 49,
   "id": "73f17fc8-0224-451c-abd1-dc0c76304a67",
   "metadata": {},
   "outputs": [],
   "source": [
    "# Define base distribution\n",
    "normal = tfd.Normal(loc=0.,scale=1.)"
   ]
  },
  {
   "cell_type": "code",
   "execution_count": 50,
   "id": "d2f8e0d7-6205-4834-919f-70f9a5d27354",
   "metadata": {},
   "outputs": [],
   "source": [
    "# sample form base distribution\n",
    "n = 10000\n",
    "z = normal.sample(n)\n"
   ]
  },
  {
   "cell_type": "markdown",
   "id": "7e06bea6-c1bd-4fc8-9ab1-eb3ba6e212e2",
   "metadata": {},
   "source": [
    "##### Scale and shift bijector"
   ]
  },
  {
   "cell_type": "code",
   "execution_count": 51,
   "id": "f0289d70-600e-4aa8-89fb-cc2a72d9b09b",
   "metadata": {},
   "outputs": [],
   "source": [
    "# Define scale and shift\n",
    "scale = 4.5\n",
    "shift = 7\n",
    "scale_and_shift = tfb.Chain([tfb.Shift(shift), tfb.Scale(scale)])\n"
   ]
  },
  {
   "cell_type": "code",
   "execution_count": 52,
   "id": "ba2ac086-d7cb-474c-b21c-51118d7be16d",
   "metadata": {},
   "outputs": [],
   "source": [
    "# We can also use call methods\n",
    "scale_transf = tfb.Scale(scale)\n",
    "shift_transf = tfb.Shift(shift)\n",
    "scale_and_shift = shift_transf(scale_transf)"
   ]
  },
  {
   "cell_type": "code",
   "execution_count": 53,
   "id": "09635b42-84d4-494e-b814-2dcc9df8ac68",
   "metadata": {},
   "outputs": [],
   "source": [
    "# Apply the forward transformation\n",
    "x = scale_and_shift.forward(z)\n"
   ]
  },
  {
   "cell_type": "code",
   "execution_count": 54,
   "id": "75f5b904-98b9-4b42-aa13-8fa896cdb23c",
   "metadata": {},
   "outputs": [
    {
     "data": {
      "text/plain": [
       "<tf.Tensor: shape=(), dtype=float32, numpy=0.0>"
      ]
     },
     "execution_count": 54,
     "metadata": {},
     "output_type": "execute_result"
    }
   ],
   "source": [
    "tf.norm(x - (scale*z +shift)) # Checking if the transformation is behaving expected (comparing chaining with indvidual operations aapplied sequentially)\n"
   ]
  },
  {
   "cell_type": "markdown",
   "id": "e2c969e1-dc6e-48cc-85c0-9f5b31d010db",
   "metadata": {},
   "source": [
    "##### Plots"
   ]
  },
  {
   "cell_type": "code",
   "execution_count": 55,
   "id": "aee7c951-ab50-4a10-9d4a-9fb5c7ce864b",
   "metadata": {},
   "outputs": [
    {
     "data": {
      "image/png": "[encoded data removed]",
      "text/plain": [
       "<Figure size 640x480 with 1 Axes>"
      ]
     },
     "metadata": {},
     "output_type": "display_data"
    }
   ],
   "source": [
    "plt.hist(z, bins=60, density=True)\n",
    "plt.show()"
   ]
  },
  {
   "cell_type": "code",
   "execution_count": 56,
   "id": "d5122f0a-261a-428c-9b92-299af1599fcc",
   "metadata": {},
   "outputs": [
    {
     "data": {
      "image/png": "[encoded data removed]",
      "text/plain": [
       "<Figure size 640x480 with 1 Axes>"
      ]
     },
     "metadata": {},
     "output_type": "display_data"
    }
   ],
   "source": [
    "plt.hist(x, bins=60, density=True)\n",
    "plt.show()"
   ]
  },
  {
   "cell_type": "code",
   "execution_count": 57,
   "id": "f55b723b-75c3-4792-95fe-9be99a33c54f",
   "metadata": {},
   "outputs": [
    {
     "data": {
      "text/plain": [
       "0.9961041"
      ]
     },
     "execution_count": 57,
     "metadata": {},
     "output_type": "execute_result"
    }
   ],
   "source": [
    "tf.math.reduce_variance(z).numpy()"
   ]
  },
  {
   "cell_type": "code",
   "execution_count": 63,
   "id": "b86e4c3f-8f47-4156-92d3-b0268abb2e2d",
   "metadata": {},
   "outputs": [
    {
     "data": {
      "text/plain": [
       "20.171108"
      ]
     },
     "execution_count": 63,
     "metadata": {},
     "output_type": "execute_result"
    }
   ],
   "source": [
    "tf.math.reduce_variance(x).numpy() # approx 4.5**2= 20.24 as expected"
   ]
  },
  {
   "cell_type": "code",
   "execution_count": 64,
   "id": "9e7db228-bec6-4667-a630-aae20b77bd37",
   "metadata": {},
   "outputs": [
    {
     "data": {
      "text/plain": [
       "-0.018115032"
      ]
     },
     "execution_count": 64,
     "metadata": {},
     "output_type": "execute_result"
    }
   ],
   "source": [
    "tf.math.reduce_mean(z).numpy() # approx zero"
   ]
  },
  {
   "cell_type": "code",
   "execution_count": 66,
   "id": "4b67dbf0-e459-4c91-a26e-631c955e9fcc",
   "metadata": {},
   "outputs": [
    {
     "data": {
      "text/plain": [
       "6.918483"
      ]
     },
     "execution_count": 66,
     "metadata": {},
     "output_type": "execute_result"
    }
   ],
   "source": [
    "tf.math.reduce_mean(x).numpy() # approx seven as expected"
   ]
  },
  {
   "cell_type": "markdown",
   "id": "9124527b-0ed2-4502-adfa-00f53c46c958",
   "metadata": {},
   "source": [
    "##### Inverse Transformation"
   ]
  },
  {
   "cell_type": "code",
   "execution_count": 70,
   "id": "a3b5bc6e-2a99-47bf-93d2-777fc04b21cf",
   "metadata": {},
   "outputs": [],
   "source": [
    "# Apply inverse transformation\n",
    "inv_x = scale_and_shift.inverse(x)"
   ]
  },
  {
   "cell_type": "code",
   "execution_count": 75,
   "id": "671aa606-9ceb-4822-9160-2be17af08bc4",
   "metadata": {},
   "outputs": [
    {
     "data": {
      "text/plain": [
       "0.0"
      ]
     },
     "execution_count": 75,
     "metadata": {},
     "output_type": "execute_result"
    }
   ],
   "source": [
    "# check inverse transformation\n",
    "tf.norm(inv_x - z).numpy() # We get zero, as expected, meaning theres no difference"
   ]
  },
  {
   "attachments": {
    "d145219f-3095-4f4c-8979-d7c81c8415b6.png": {
     "image/png": "[encoded data removed]"
    },
    "ebd37bff-ea4b-41f4-9da6-b082096f818f.png": {
     "image/png": "[encoded data removed]"
    }
   },
   "cell_type": "markdown",
   "id": "33339fad-5d0d-4b36-8293-bf7e6e7952ae",
   "metadata": {},
   "source": [
    "##### Log probability\n",
    "![image.png](attachment:d145219f-3095-4f4c-8979-d7c81c8415b6.png)\n",
    "\n",
    "![image.png](attachment:ebd37bff-ea4b-41f4-9da6-b082096f818f.png)\n",
    "\n",
    "The forward method's function is $x=f(Z)$. So here, determinant of dx/dz is computed. Notice the jacobian is a function of Z here."
   ]
  },
  {
   "cell_type": "code",
   "execution_count": 80,
   "id": "f69e7ccd-9569-4a77-bd34-119be5c7084d",
   "metadata": {},
   "outputs": [
    {
     "name": "stdout",
     "output_type": "stream",
     "text": [
      "tf.Tensor([-3.0568657 -2.4700046 -2.9892144 ... -2.7589812 -3.6219845 -2.676297 ], shape=(10000,), dtype=float32)\n"
     ]
    }
   ],
   "source": [
    "# Compute log prob for x\n",
    "log_prob_x = normal.log_prob(z) - scale_and_shift.forward_log_det_jacobian(z,event_ndims=0)#event_dims is zero because of scalar event space\n",
    "print(log_prob_x)"
   ]
  },
  {
   "attachments": {
    "3eae286e-d3a4-46b5-9c65-32b70b25ebc2.png": {
     "image/png": "[encoded data removed]"
    }
   },
   "cell_type": "markdown",
   "id": "e17495e3-0e4c-45c0-a0d3-35202bfcf01f",
   "metadata": {},
   "source": [
    "![image.png](attachment:3eae286e-d3a4-46b5-9c65-32b70b25ebc2.png)\n",
    "$$logpx(x) = logpz(z) + log|J_{f^{-1}}(x)|$$\n",
    "The backward method's function is $z=f^{-1}(x)$.  So here, determinant of dz/dx is computed. Notice the jacobian is a function of X here."
   ]
  },
  {
   "cell_type": "code",
   "execution_count": 85,
   "id": "153e8c5b-d47d-4a36-bba7-8681f924f4cc",
   "metadata": {},
   "outputs": [
    {
     "name": "stdout",
     "output_type": "stream",
     "text": [
      "tf.Tensor([-3.0568657 -2.4700046 -2.9892144 ... -2.7589812 -3.6219845 -2.676297 ], shape=(10000,), dtype=float32)\n"
     ]
    }
   ],
   "source": [
    "# We can also use the inverse transformation. This formulation only contains x\n",
    "log_prob_x = normal.log_prob(scale_and_shift.inverse(x)) + scale_and_shift.inverse_log_det_jacobian(x, event_dims=0)\n",
    "print(log_prob_x)"
   ]
  },
  {
   "cell_type": "code",
   "execution_count": 86,
   "id": "40494775-73b2-4f81-96fa-70644f70d17e",
   "metadata": {},
   "outputs": [
    {
     "name": "stdout",
     "output_type": "stream",
     "text": [
      "tf.Tensor([-3.0568657 -2.4700046 -2.9892144 ... -2.7589812 -3.6219845 -2.676297 ], shape=(10000,), dtype=float32)\n"
     ]
    }
   ],
   "source": [
    "# Here, I just inserted 'z' insread of the f inverse of x for understanding. The above formulation is the preferred one\n",
    "log_prob_x = normal.log_prob(z) + scale_and_shift.inverse_log_det_jacobian(x, event_dims=0)\n",
    "print(log_prob_x)"
   ]
  },
  {
   "cell_type": "markdown",
   "id": "828ba03f-2705-4141-9bb7-58b270bdf89e",
   "metadata": {},
   "source": [
    "- All three above formulations have the same exact result"
   ]
  },
  {
   "cell_type": "markdown",
   "id": "1ccde62a-b271-45a4-9187-6917c1cf5881",
   "metadata": {},
   "source": [
    "##### Broadcasting\n",
    "broadcasting data/events accros multiple distributional parameters"
   ]
  },
  {
   "cell_type": "code",
   "execution_count": 87,
   "id": "0f5e42fe-5e7f-48c9-8f34-2c359b2578ac",
   "metadata": {},
   "outputs": [],
   "source": [
    "x = tf.random.normal(shape=(100,1))\n"
   ]
  },
  {
   "cell_type": "code",
   "execution_count": 89,
   "id": "c1463985-e15f-42a7-bf91-8064ff410be5",
   "metadata": {},
   "outputs": [
    {
     "name": "stdout",
     "output_type": "stream",
     "text": [
      "(100, 1)\n"
     ]
    }
   ],
   "source": [
    "# Softfloor bijector\n",
    "softfloor = tfb.Softfloor(temperature=0.01)\n",
    "y = softfloor.forward(x)\n",
    "print(y.shape)"
   ]
  },
  {
   "cell_type": "code",
   "execution_count": 88,
   "id": "f8328e82-4ac6-443b-a0a8-17008997014d",
   "metadata": {},
   "outputs": [
    {
     "name": "stdout",
     "output_type": "stream",
     "text": [
      "(100, 2)\n"
     ]
    }
   ],
   "source": [
    "# Softfloor bijector using broadcasting\n",
    "softfloor = tfb.Softfloor(temperature=[0.2,1.])\n",
    "y = softfloor.forward(x)\n",
    "print(y.shape)"
   ]
  },
  {
   "cell_type": "markdown",
   "id": "315f5c2b-62ad-42e4-bb75-f1c5b3b9f491",
   "metadata": {},
   "source": [
    "###### Checkout the lab on coursera for more"
   ]
  },
  {
   "cell_type": "markdown",
   "id": "ae0b82b8-30e5-4fa0-8bb6-e51ec6dc967c",
   "metadata": {},
   "source": [
    "# Rest of the labs and tutorial will be done on coursera platform\n",
    "#### This notebook will be used for extra practice, and notes."
   ]
  },
  {
   "cell_type": "markdown",
   "id": "389aeb26-e77c-4bad-a981-7dd07b9a6e19",
   "metadata": {},
   "source": []
  },
  {
   "cell_type": "code",
   "execution_count": null,
   "id": "5929a012-66c8-439e-804a-3715307e3766",
   "metadata": {},
   "outputs": [],
   "source": []
  },
  {
   "cell_type": "markdown",
   "id": "715b9789-50eb-4436-8635-370b5bcb44c9",
   "metadata": {},
   "source": [
    "## The TransformedDistribution class"
   ]
  },
  {
   "cell_type": "markdown",
   "id": "031f6352-89cd-4f5a-a1de-7f9758622f30",
   "metadata": {},
   "source": []
  },
  {
   "cell_type": "code",
   "execution_count": 92,
   "id": "5f7e9fd0-8dc8-4331-8b98-e63919faa37e",
   "metadata": {},
   "outputs": [
    {
     "data": {
      "text/plain": [
       "<tf.Tensor: shape=(3,), dtype=float32, numpy=array([-1.6182185, -2.2223687, -1.7049462], dtype=float32)>"
      ]
     },
     "execution_count": 92,
     "metadata": {},
     "output_type": "execute_result"
    }
   ],
   "source": [
    "normal = tfd.Normal(loc=0.,scale=1.)\n",
    "z = normal.sample(3)\n",
    "scale_and_shift = tfb.Chain([tfb.Shift(1.), tfb.Scale(2.)])\n",
    "x = scale_and_shift.forward(z)\n",
    "log_prob_z = normal.log_prob(z)\n",
    "log_prob_x = (normal.log_prob(z) - scale_and_shift.forward_log_det_jacobian(z,events_ndims=0))\n",
    "log_prob_x"
   ]
  },
  {
   "cell_type": "code",
   "execution_count": 93,
   "id": "3a0d4e35-f26f-4d5c-8b13-4d0955dbae49",
   "metadata": {},
   "outputs": [
    {
     "data": {
      "text/plain": [
       "<tf.Tensor: shape=(3,), dtype=float32, numpy=array([-1.6182185, -2.2223687, -1.7049462], dtype=float32)>"
      ]
     },
     "execution_count": 93,
     "metadata": {},
     "output_type": "execute_result"
    }
   ],
   "source": [
    "# Equivalently\n",
    "log_prob_x = (normal.log_prob(scale_and_shift.inverse(x)) + scale_and_shift.inverse_log_det_jacobian(x,events_ndims=0))\n",
    "log_prob_x "
   ]
  },
  {
   "cell_type": "markdown",
   "id": "fd7461bd-6c28-49fb-9895-2b54e958c2b1",
   "metadata": {},
   "source": [
    "__Explanation:__\n",
    "We are going to use the above formulation mostly, the reason being:\\\n",
    "Background:\\\n",
    "Base Dist: $ Z \\sim P0$ This is a latent variable. The distribution is assumed to simple, such as diagonal Gaussian\\\n",
    "Transformation: $x = f(z)$\\\n",
    "Data dist: $x \\sim P1$\n",
    "\n",
    "- The function $f$ is bijective/invertible. This function is parameterized, and we will learn these parameters using MLE. During training, we'll have sample data points $x$. We'll then compute $\\log{p(x)}$ under the model, where $x\\sim P1$. \n",
    "\n",
    "- Additionally, since $P1$ is unknown, we will use the inverse of the transformation and the base distribution to get the probabilities.\n",
    "\n",
    "That's what necessitates the formulation that comprises of $x$ exclusively.\n",
    "\n",
    "After the parameters for the transformation are optimized, we can sample new data as:\n",
    "- x_sample = bijector.forward(base_dist.sample())\n"
   ]
  },
  {
   "cell_type": "markdown",
   "id": "e5cf8005-8791-4db4-b3fa-cbd387971db7",
   "metadata": {},
   "source": [
    "#### Example 1"
   ]
  },
  {
   "cell_type": "code",
   "execution_count": 94,
   "id": "bf462723-6c13-4567-bd74-67a0aa8eb575",
   "metadata": {},
   "outputs": [
    {
     "data": {
      "text/plain": [
       "<tf.Tensor: shape=(3,), dtype=float32, numpy=array([0.29019737, 2.411094  , 4.3014393 ], dtype=float32)>"
      ]
     },
     "execution_count": 94,
     "metadata": {},
     "output_type": "execute_result"
    }
   ],
   "source": [
    "normal = tfd.Normal(loc=0.0, scale=1.) # base dist\n",
    "z = normal.sample(3)\n",
    "exp = tfb.Exp() # trnasformation\n",
    "x = exp.forward(z)\n",
    "\n",
    "x"
   ]
  },
  {
   "cell_type": "code",
   "execution_count": 95,
   "id": "72b3a1fc-abdb-4427-9cb2-ae8c441ee6b8",
   "metadata": {},
   "outputs": [
    {
     "data": {
      "text/plain": [
       "<tfp.distributions.TransformedDistribution 'expNormal' batch_shape=[] event_shape=[] dtype=float32>"
      ]
     },
     "execution_count": 95,
     "metadata": {},
     "output_type": "execute_result"
    }
   ],
   "source": [
    "# To directly define the data dist P1, we use the TransformedDistribution\n",
    "log_normal = tfd.TransformedDistribution(normal,exp) # base, transformation\n",
    "log_normal"
   ]
  },
  {
   "cell_type": "markdown",
   "id": "a948c809-6c17-478e-a75a-3d881ee56d7e",
   "metadata": {},
   "source": [
    "- TransformedDistribution has batch_shape and event_shape similar tobase dist"
   ]
  },
  {
   "cell_type": "code",
   "execution_count": 96,
   "id": "1a38ba6f-2d53-4447-91f7-9a43e96e2582",
   "metadata": {},
   "outputs": [
    {
     "data": {
      "text/plain": [
       "<tfp.distributions.TransformedDistribution 'expNormal' batch_shape=[] event_shape=[] dtype=float32>"
      ]
     },
     "execution_count": 96,
     "metadata": {},
     "output_type": "execute_result"
    }
   ],
   "source": [
    "# Short to create Transformed Dist\n",
    "log_normal = exp(normal)\n",
    "log_normal"
   ]
  },
  {
   "cell_type": "code",
   "execution_count": 100,
   "id": "b6b1514b-24ce-4137-8854-5faba6a5f159",
   "metadata": {},
   "outputs": [
    {
     "name": "stdout",
     "output_type": "stream",
     "text": [
      "tf.Tensor(0.71489584, shape=(), dtype=float32)\n",
      "tf.Tensor([-0.44706905 -2.18629    -3.4421554 ], shape=(3,), dtype=float32)\n"
     ]
    }
   ],
   "source": [
    "# Using the dist\n",
    "print(log_normal.sample()) # samples from the base distribution, then transforms it using the bijector \n",
    "print(log_normal.log_prob(x)) # Applies the inverse det jacoboan formula to get prob"
   ]
  },
  {
   "cell_type": "markdown",
   "id": "575c31ee-e3ea-4483-a732-c3cdff6acf99",
   "metadata": {},
   "source": [
    "Calling bijector has three ways. Calling bijector on:\n",
    "- Bijector, chains them and returns the chain object\n",
    "- Event/data/sample tensor, returns the transformed value by application of bijector\n",
    "- Distribution object, return TransformedDistribution Object"
   ]
  },
  {
   "cell_type": "markdown",
   "id": "0e837f3f-c05a-4c63-9508-d6162c45e2f6",
   "metadata": {},
   "source": [
    "__Optional key-word arguments:__\n",
    "The follwowing arguments can be used to override the batxh and event shape when these shapes are empty in the base dist.\n",
    "- event_shape\n",
    "- batch_shape"
   ]
  },
  {
   "cell_type": "markdown",
   "id": "08a6b923-6679-4bd2-82d7-9247b50702b9",
   "metadata": {},
   "source": [
    "#### Example 2\n",
    "Objective: HOw key-word arguments affects thetransformed dist, when the base dist has empty shapes"
   ]
  },
  {
   "cell_type": "code",
   "execution_count": 101,
   "id": "659a2151-86f9-4b03-a2b0-4844b97447d0",
   "metadata": {},
   "outputs": [
    {
     "data": {
      "text/plain": [
       "<tfp.distributions.Normal 'Normal' batch_shape=[] event_shape=[] dtype=float32>"
      ]
     },
     "execution_count": 101,
     "metadata": {},
     "output_type": "execute_result"
    }
   ],
   "source": [
    "normal = tfd.Normal(loc=0.0, scale=1.) # base dist\n",
    "normal"
   ]
  },
  {
   "cell_type": "code",
   "execution_count": 102,
   "id": "52821d83-ec45-41f0-803e-2afbcbd83499",
   "metadata": {},
   "outputs": [
    {
     "ename": "TypeError",
     "evalue": "__init__() got an unexpected keyword argument 'event_shape'",
     "output_type": "error",
     "traceback": [
      "\u001b[1;31m---------------------------------------------------------------------------\u001b[0m",
      "\u001b[1;31mTypeError\u001b[0m                                 Traceback (most recent call last)",
      "Cell \u001b[1;32mIn[102], line 6\u001b[0m\n\u001b[0;32m      1\u001b[0m scale_tril \u001b[38;5;241m=\u001b[39m[\n\u001b[0;32m      2\u001b[0m     [\u001b[38;5;241m1.\u001b[39m,\u001b[38;5;241m0\u001b[39m],\n\u001b[0;32m      3\u001b[0m     [\u001b[38;5;241m1.\u001b[39m,\u001b[38;5;241m1.\u001b[39m]\n\u001b[0;32m      4\u001b[0m ]\n\u001b[0;32m      5\u001b[0m scale \u001b[38;5;241m=\u001b[39m tfb\u001b[38;5;241m.\u001b[39mScaleMatvecTriL(scale_tril\u001b[38;5;241m=\u001b[39mscale_tril)\n\u001b[1;32m----> 6\u001b[0m mvn \u001b[38;5;241m=\u001b[39m \u001b[43mtfd\u001b[49m\u001b[38;5;241;43m.\u001b[39;49m\u001b[43mTransformedDistribution\u001b[49m\u001b[43m(\u001b[49m\u001b[43mnormal\u001b[49m\u001b[43m,\u001b[49m\u001b[43mscale\u001b[49m\u001b[43m,\u001b[49m\u001b[43m \u001b[49m\u001b[43mevent_shape\u001b[49m\u001b[38;5;241;43m=\u001b[39;49m\u001b[43m[\u001b[49m\u001b[38;5;241;43m2\u001b[39;49m\u001b[43m]\u001b[49m\u001b[43m)\u001b[49m\n\u001b[0;32m      8\u001b[0m mvn\n",
      "\u001b[1;31mTypeError\u001b[0m: __init__() got an unexpected keyword argument 'event_shape'"
     ]
    }
   ],
   "source": [
    "scale_tril =[\n",
    "    [1.,0],\n",
    "    [1.,1.]\n",
    "]\n",
    "scale = tfb.ScaleMatvecTriL(scale_tril=scale_tril)\n",
    "mvn = tfd.TransformedDistribution(normal,scale, event_shape=[2])\n",
    "\n",
    "mvn"
   ]
  },
  {
   "cell_type": "markdown",
   "id": "afb86e97-9b2f-4938-b920-202d98c1fc47",
   "metadata": {},
   "source": [
    "__The above error is due to the tensorflow version__\n",
    "The course uses 2.1"
   ]
  },
  {
   "cell_type": "code",
   "execution_count": 103,
   "id": "2785eea8-610a-414b-b75e-2861e22b3419",
   "metadata": {},
   "outputs": [
    {
     "data": {
      "text/plain": [
       "<tfp.distributions.MultivariateNormalDiag 'MultivariateNormalDiag' batch_shape=[2] event_shape=[2] dtype=float32>"
      ]
     },
     "execution_count": 103,
     "metadata": {},
     "output_type": "execute_result"
    }
   ],
   "source": [
    "tfd.MultivariateNormalDiag(loc=0., scale_diag=[[1., 2.], [1., 2.]]) "
   ]
  },
  {
   "cell_type": "markdown",
   "id": "1cc80a1a-7237-431a-9b41-4ad34ce3bb5e",
   "metadata": {},
   "source": [
    "The above code creates two multivariate dists.\n",
    "Both are exactly the same in this case. The first has variance matrix [[1,0],[0,2]]. The second has the same matrix as well. loc is broadcasted accross the two scale parameters."
   ]
  },
  {
   "cell_type": "markdown",
   "id": "6dce1b02-8e37-48a2-bce1-968275629789",
   "metadata": {},
   "source": [
    "## Subclassing bijectors"
   ]
  },
  {
   "cell_type": "code",
   "execution_count": 106,
   "id": "08ba5eca-7298-4c14-be84-60ba99df9c32",
   "metadata": {},
   "outputs": [],
   "source": [
    "class MySigmoid(tfb.Bijector):\n",
    "    def __init__(self, validate_args=False,name=\"sigmoid\"):\n",
    "        super(MySigmoid, self).__init__(\n",
    "            validate_args=validate_args, forward_min_event_ndims=0,name=name\n",
    "        )\n",
    "    def _forward(self,x):\n",
    "        return tf.math.sigmoid(x)\n",
    "\n",
    "    def _inverse(self,y):\n",
    "        return tf.math.log(y) - tf.math.log(1-y)\n",
    "\n",
    "    def _inverse_log_det_jacobian(self, y): # implement assuming the input has the minimum input dimension\n",
    "        return -tf.math.log(y) - tf.math.log(1-y)\n",
    "        \n",
    "    def _forward_log_det_jacobian(self,x):\n",
    "        return -tf.math.softplus(-x)-tf.math.softplus(x)\n"
   ]
  },
  {
   "cell_type": "markdown",
   "id": "a442819e-5937-44bf-b59c-ad690c9a07c0",
   "metadata": {},
   "source": [
    "## Autoregressive flows\n",
    "- Why invertible transformations of distributions?\n",
    "- - It allows us to compute the likelihood of the data under the model, which in turn means that we can train the model using the principle of maximum likelihood.\n",
    " \n",
    "Nomalising flows reguires the computation log of the jacobian determinant, which is computationally expensive. A model with many layers with high dimensional transformations makes such computations impractical. This reuires careful architectural choices (refer to the course reading 'Autoregressive Flows and realNVP').\n",
    "\n",
    "- Autoregressive flows is one such architectue that will be discussed here.\n",
    "- The Jacobian determinant is easy to compute because theJacobian Matrix is lower triangular dut to autoregressive property.\n",
    "- "
   ]
  },
  {
   "cell_type": "code",
   "execution_count": 4,
   "id": "15a408d2-5320-4aab-80c4-d6a8db7e740b",
   "metadata": {},
   "outputs": [],
   "source": [
    "made = tfb.AutoregressiveNetwork(\n",
    "    params=2, event_shape=[3], hidden_units=[16,16], activation='sigmoid'\n",
    ")"
   ]
  },
  {
   "cell_type": "code",
   "execution_count": 6,
   "id": "9c4fab3c-16ea-4f5a-84c0-08db8030f46e",
   "metadata": {},
   "outputs": [
    {
     "data": {
      "text/plain": [
       "<tf.Tensor: shape=(2, 3, 2), dtype=float32, numpy=\n",
       "array([[[ 0.        ,  0.        ],\n",
       "        [-0.01005176, -0.08439602],\n",
       "        [ 0.48749873, -0.01630397]],\n",
       "\n",
       "       [[ 0.        ,  0.        ],\n",
       "        [ 0.0086675 , -0.06167998],\n",
       "        [ 0.5395398 , -0.00180623]]], dtype=float32)>"
      ]
     },
     "execution_count": 6,
     "metadata": {},
     "output_type": "execute_result"
    }
   ],
   "source": [
    "made(tf.random.normal([2,3])) # two parameters for each feature. This input has two events with Dimensionality 3 (3 features). Reade the MADE paper for details"
   ]
  },
  {
   "cell_type": "code",
   "execution_count": 7,
   "id": "33ca918b-3287-41e7-8ba5-fd919d43e210",
   "metadata": {},
   "outputs": [
    {
     "ename": "SyntaxError",
     "evalue": "invalid syntax (1812399566.py, line 1)",
     "output_type": "error",
     "traceback": [
      "\u001b[1;36m  Cell \u001b[1;32mIn[7], line 1\u001b[1;36m\u001b[0m\n\u001b[1;33m    maf_bijector = tfb.MaskedAutoregressiveFlow(shift_and_log_scale_fn=)\u001b[0m\n\u001b[1;37m                                                                       ^\u001b[0m\n\u001b[1;31mSyntaxError\u001b[0m\u001b[1;31m:\u001b[0m invalid syntax\n"
     ]
    }
   ],
   "source": [
    "maf_bijector = tfb.MaskedAutoregressiveFlow(shift_and_log_scale_fn=)"
   ]
  },
  {
   "cell_type": "markdown",
   "id": "31a14109-b945-4f3b-81de-e4b448b54de6",
   "metadata": {},
   "source": [
    "### There's more code to this section, but I have left it due to time constraints"
   ]
  },
  {
   "cell_type": "code",
   "execution_count": null,
   "id": "a2f3ed5e-8ca3-4b54-86e9-1c05c86cad1a",
   "metadata": {},
   "outputs": [],
   "source": []
  }
 ],
 "metadata": {
  "kernelspec": {
   "display_name": "Python 3 (ipykernel)",
   "language": "python",
   "name": "python3"
  },
  "language_info": {
   "codemirror_mode": {
    "name": "ipython",
    "version": 3
   },
   "file_extension": ".py",
   "mimetype": "text/x-python",
   "name": "python",
   "nbconvert_exporter": "python",
   "pygments_lexer": "ipython3",
   "version": "3.9.13"
  }
 },
 "nbformat": 4,
 "nbformat_minor": 5
}
